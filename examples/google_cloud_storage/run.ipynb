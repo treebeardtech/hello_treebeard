{
 "cells": [
  {
   "cell_type": "code",
   "execution_count": null,
   "metadata": {
    "papermill": {
     "duration": 0.326539,
     "end_time": "2020-04-05T11:57:50.799611",
     "exception": false,
     "start_time": "2020-04-05T11:57:50.473072",
     "status": "completed"
    },
    "tags": []
   },
   "outputs": [],
   "source": [
    "from google.cloud import storage\n",
    "from google.oauth2 import service_account\n",
    "import os"
   ]
  },
  {
   "cell_type": "code",
   "execution_count": null,
   "metadata": {
    "papermill": {
     "duration": 0.011579,
     "end_time": "2020-04-05T11:57:50.814123",
     "exception": false,
     "start_time": "2020-04-05T11:57:50.802544",
     "status": "completed"
    },
    "tags": []
   },
   "outputs": [],
   "source": [
    "!printenv TB_GCP_SERVICE_ACCOUNT_KEY > \"./service-account.json\"\n",
    "os.environ[\"GOOGLE_APPLICATION_CREDENTIALS\"] = \"./service-account.json\"\n",
    "\n",
    "client = storage.Client()"
   ]
  },
  {
   "cell_type": "code",
   "execution_count": null,
   "metadata": {
    "papermill": {
     "duration": 0.541446,
     "end_time": "2020-04-05T11:57:51.357854",
     "exception": false,
     "start_time": "2020-04-05T11:57:50.816408",
     "status": "completed"
    },
    "tags": []
   },
   "outputs": [],
   "source": [
    "[b.name for b in client.list_buckets()]"
   ]
  },
  {
   "cell_type": "code",
   "execution_count": null,
   "metadata": {
    "papermill": {
     "duration": 0.002896,
     "end_time": "2020-04-05T11:57:51.364088",
     "exception": false,
     "start_time": "2020-04-05T11:57:51.361192",
     "status": "completed"
    },
    "tags": []
   },
   "outputs": [],
   "source": []
  }
 ],
 "metadata": {
  "kernelspec": {
   "display_name": "Python 3",
   "language": "python",
   "name": "python3"
  },
  "language_info": {
   "codemirror_mode": {
    "name": "ipython",
    "version": 3
   },
   "file_extension": ".py",
   "mimetype": "text/x-python",
   "name": "python",
   "nbconvert_exporter": "python",
   "pygments_lexer": "ipython3",
   "version": "3.7.6"
  },
  "papermill": {
   "duration": 1.972948,
   "end_time": "2020-04-05T11:57:51.685596",
   "environment_variables": {},
   "exception": null,
   "input_path": "run.ipynb",
   "output_path": "run.ipynb",
   "parameters": {},
   "start_time": "2020-04-05T11:57:49.712648",
   "version": "1.2.1"
  }
 },
 "nbformat": 4,
 "nbformat_minor": 4
}
