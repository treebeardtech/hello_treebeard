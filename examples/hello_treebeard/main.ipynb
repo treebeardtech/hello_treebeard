{
 "cells": [
  {
   "cell_type": "markdown",
   "metadata": {
    "papermill": {
     "duration": 0.020199,
     "end_time": "2020-06-29T13:33:30.254463",
     "exception": false,
     "start_time": "2020-06-29T13:33:30.234264",
     "status": "completed"
    },
    "tags": []
   },
   "source": [
    "# Hello Treebeard!\n",
    "\n",
    "Thanks for trying out Treebeard's cloud deploy and scheduling service.  \n",
    "\n",
    "\n",
    "1. [Requirements](#Requirements)\n",
    "2. [Outputs](#Outputs)\n",
    "3. [Examples](#Examples)\n",
    "    - [Call an API](#Call-an-API)\n",
    "    - [Check a hosted file](#Check-a-hosted-file)"
   ]
  },
  {
   "cell_type": "markdown",
   "metadata": {
    "papermill": {
     "duration": 0.012449,
     "end_time": "2020-06-29T13:33:30.281305",
     "exception": false,
     "start_time": "2020-06-29T13:33:30.268856",
     "status": "completed"
    },
    "tags": []
   },
   "source": [
    "## Requirements"
   ]
  },
  {
   "cell_type": "code",
   "execution_count": null,
   "metadata": {
    "execution": {
     "iopub.execute_input": "2020-06-29T13:33:30.308166Z",
     "iopub.status.busy": "2020-06-29T13:33:30.307610Z",
     "iopub.status.idle": "2020-06-29T13:33:30.715030Z",
     "shell.execute_reply": "2020-06-29T13:33:30.715384Z"
    },
    "papermill": {
     "duration": 0.422321,
     "end_time": "2020-06-29T13:33:30.715542",
     "exception": false,
     "start_time": "2020-06-29T13:33:30.293221",
     "status": "completed"
    },
    "tags": []
   },
   "outputs": [],
   "source": [
    "import treebeard\n",
    "# This notebook does not depend on the treebeard library, but it should be present in your requirements file.\n",
    "# The underlying build service sends this notebook to a cloud server which uses the papermill library to run\n",
    "# the notebook. Having treebeard as a dependency ensure this functions correctly."
   ]
  },
  {
   "cell_type": "markdown",
   "metadata": {
    "papermill": {
     "duration": 0.011576,
     "end_time": "2020-06-29T13:33:30.739412",
     "exception": false,
     "start_time": "2020-06-29T13:33:30.727836",
     "status": "completed"
    },
    "tags": []
   },
   "source": [
    "There must be a dependencies file alongside this notebook, either requirements.txt, a pipenv Pipfile, or a Conda environment.yml file."
   ]
  },
  {
   "cell_type": "code",
   "execution_count": null,
   "metadata": {
    "execution": {
     "iopub.execute_input": "2020-06-29T13:33:30.769107Z",
     "iopub.status.busy": "2020-06-29T13:33:30.768558Z",
     "iopub.status.idle": "2020-06-29T13:33:31.305180Z",
     "shell.execute_reply": "2020-06-29T13:33:31.304067Z"
    },
    "papermill": {
     "duration": 0.552949,
     "end_time": "2020-06-29T13:33:31.305348",
     "exception": true,
     "start_time": "2020-06-29T13:33:30.752399",
     "status": "failed"
    },
    "tags": []
   },
   "outputs": [],
   "source": [
    "# Setup\n",
    "import os\n",
    "import matplotlib.pyplot as plt \n",
    "import requests\n",
    "import json\n",
    "import pandas as pd\n",
    "import numpy as np\n",
    "import seaborn as sns\n",
    "%matplotlib inline"
   ]
  },
  {
   "cell_type": "markdown",
   "metadata": {
    "papermill": {
     "duration": null,
     "end_time": null,
     "exception": null,
     "start_time": null,
     "status": "pending"
    },
    "tags": []
   },
   "source": [
    "## Output"
   ]
  },
  {
   "cell_type": "markdown",
   "metadata": {
    "papermill": {
     "duration": null,
     "end_time": null,
     "exception": null,
     "start_time": null,
     "status": "pending"
    },
    "tags": []
   },
   "source": [
    "**Output** from your notebooks should be saved in an `output` directory.  \n",
    "If so, they will be saved on the cloud build server, versioned, and made available via URL endpoints.  \n",
    "They can be listed on the Treebeard admin page that you can find after running a build."
   ]
  },
  {
   "cell_type": "code",
   "execution_count": null,
   "metadata": {
    "execution": {
     "iopub.execute_input": "2020-05-06T17:36:12.427589Z",
     "iopub.status.busy": "2020-05-06T17:36:12.427022Z",
     "iopub.status.idle": "2020-05-06T17:36:12.429034Z",
     "shell.execute_reply": "2020-05-06T17:36:12.429446Z"
    },
    "papermill": {
     "duration": null,
     "end_time": null,
     "exception": null,
     "start_time": null,
     "status": "pending"
    },
    "tags": []
   },
   "outputs": [],
   "source": [
    "# create an outputs directory if it does not exist\n",
    "if 'output' not in os.listdir(): os.mkdir('output')"
   ]
  },
  {
   "cell_type": "markdown",
   "metadata": {
    "papermill": {
     "duration": null,
     "end_time": null,
     "exception": null,
     "start_time": null,
     "status": "pending"
    },
    "tags": []
   },
   "source": [
    "# Examples\n",
    "\n",
    "Here are a few simple examples of data that might be interesting to check over time.\n",
    "\n",
    "## Call an API"
   ]
  },
  {
   "cell_type": "markdown",
   "metadata": {
    "papermill": {
     "duration": null,
     "end_time": null,
     "exception": null,
     "start_time": null,
     "status": "pending"
    },
    "tags": []
   },
   "source": [
    "What's the current price of BitCoin?"
   ]
  },
  {
   "cell_type": "code",
   "execution_count": null,
   "metadata": {
    "execution": {
     "iopub.execute_input": "2020-05-06T17:36:12.513302Z",
     "iopub.status.busy": "2020-05-06T17:36:12.512728Z",
     "iopub.status.idle": "2020-05-06T17:36:12.587766Z",
     "shell.execute_reply": "2020-05-06T17:36:12.588343Z"
    },
    "papermill": {
     "duration": null,
     "end_time": null,
     "exception": null,
     "start_time": null,
     "status": "pending"
    },
    "tags": []
   },
   "outputs": [],
   "source": [
    "r = requests.get('https://api.coindesk.com/v1/bpi/currentprice.json').json()\n",
    "print(f\"At {r['time']['updateduk']}, the price of Bitcoin is £{r['bpi']['GBP']['rate']}\")\n",
    "# This data was produced from the CoinDesk Bitcoin Price Index (USD). Non-USD currency data converted using hourly conversion rate from openexchangerates.org"
   ]
  },
  {
   "cell_type": "markdown",
   "metadata": {
    "papermill": {
     "duration": null,
     "end_time": null,
     "exception": null,
     "start_time": null,
     "status": "pending"
    },
    "tags": []
   },
   "source": [
    "See the last 30 days of the price of Bitcoin, thanks to CoinDesk's API"
   ]
  },
  {
   "cell_type": "code",
   "execution_count": null,
   "metadata": {
    "execution": {
     "iopub.execute_input": "2020-05-06T17:36:12.651884Z",
     "iopub.status.busy": "2020-05-06T17:36:12.651273Z",
     "iopub.status.idle": "2020-05-06T17:36:13.828067Z",
     "shell.execute_reply": "2020-05-06T17:36:13.827630Z"
    },
    "papermill": {
     "duration": null,
     "end_time": null,
     "exception": null,
     "start_time": null,
     "status": "pending"
    },
    "tags": []
   },
   "outputs": [],
   "source": [
    "r = requests.get('https://api.coindesk.com/v1/bpi/historical/close.json').json()\n",
    "\n",
    "fig, ax = plt.subplots()\n",
    "ax.plot(pd.DataFrame.from_dict(r)['bpi'][:-2], color='red', linestyle='--')\n",
    "ax.set_ylabel('Bitcoin Price (£)')\n",
    "fig.suptitle('Last 30 Days of Bitcoin Price', size=16)\n",
    "plt.gca().spines['top'].set_visible(False)\n",
    "plt.gca().spines['right'].set_visible(False)\n",
    "ax.xaxis.set_major_locator(plt.MaxNLocator(4))\n",
    "\n",
    "im = plt.imread('https://emojipedia-us.s3.dualstack.us-west-1.amazonaws.com/thumbs/320/apple/237/money-with-wings_1f4b8.png')\n",
    "newax = fig.add_axes([0.8, 0.8, 0.2, 0.2], anchor='NE')\n",
    "newax.imshow(im)\n",
    "newax.axis('off')\n",
    "plt.savefig('output/bitcoin_price.png', dpi=150, bbox_inches='tight')"
   ]
  },
  {
   "cell_type": "markdown",
   "metadata": {
    "papermill": {
     "duration": null,
     "end_time": null,
     "exception": null,
     "start_time": null,
     "status": "pending"
    },
    "tags": []
   },
   "source": [
    "## Check a hosted file\n",
    "\n",
    "The [Mauna Loa Observatory](https://www.esrl.noaa.gov/gmd/obop/mlo/) is a USA NOAA Earth System Research Laboratory.  \n",
    "It publishes measurements of **atmospheric CO2 concentration** regularly.  \n",
    "The Observatory publishes its own charts [here](https://www.esrl.noaa.gov/gmd/ccgg/trends/mlo.html), but we can recreate them."
   ]
  },
  {
   "cell_type": "code",
   "execution_count": null,
   "metadata": {
    "execution": {
     "iopub.execute_input": "2020-05-06T17:36:13.889579Z",
     "iopub.status.busy": "2020-05-06T17:36:13.888886Z",
     "iopub.status.idle": "2020-05-06T17:36:13.891215Z",
     "shell.execute_reply": "2020-05-06T17:36:13.891589Z"
    },
    "papermill": {
     "duration": null,
     "end_time": null,
     "exception": null,
     "start_time": null,
     "status": "pending"
    },
    "tags": []
   },
   "outputs": [],
   "source": [
    "# Weekly CO2 data is published here, there are also other datafeeds available\n",
    "url = \"ftp://aftp.cmdl.noaa.gov/products/trends/co2/co2_weekly_mlo.txt\""
   ]
  },
  {
   "cell_type": "code",
   "execution_count": null,
   "metadata": {
    "execution": {
     "iopub.execute_input": "2020-05-06T17:36:13.925128Z",
     "iopub.status.busy": "2020-05-06T17:36:13.924568Z",
     "iopub.status.idle": "2020-05-06T17:36:15.386943Z",
     "shell.execute_reply": "2020-05-06T17:36:15.387539Z"
    },
    "papermill": {
     "duration": null,
     "end_time": null,
     "exception": null,
     "start_time": null,
     "status": "pending"
    },
    "tags": []
   },
   "outputs": [],
   "source": [
    "# Pandas can read remote URL file contents\n",
    "# Skip the first 49 rows as they are explanatory text\n",
    "# Reading them is helpful though as they define the column names and missing number fills\n",
    "df = pd.read_table(url, skiprows=49, header=None)"
   ]
  },
  {
   "cell_type": "code",
   "execution_count": null,
   "metadata": {
    "execution": {
     "iopub.execute_input": "2020-05-06T17:36:15.424272Z",
     "iopub.status.busy": "2020-05-06T17:36:15.423601Z",
     "iopub.status.idle": "2020-05-06T17:36:15.426258Z",
     "shell.execute_reply": "2020-05-06T17:36:15.426707Z"
    },
    "papermill": {
     "duration": null,
     "end_time": null,
     "exception": null,
     "start_time": null,
     "status": "pending"
    },
    "tags": []
   },
   "outputs": [],
   "source": [
    "df[0].head()"
   ]
  },
  {
   "cell_type": "code",
   "execution_count": null,
   "metadata": {
    "execution": {
     "iopub.execute_input": "2020-05-06T17:36:15.472530Z",
     "iopub.status.busy": "2020-05-06T17:36:15.471599Z",
     "iopub.status.idle": "2020-05-06T17:36:15.474286Z",
     "shell.execute_reply": "2020-05-06T17:36:15.474628Z"
    },
    "papermill": {
     "duration": null,
     "end_time": null,
     "exception": null,
     "start_time": null,
     "status": "pending"
    },
    "tags": []
   },
   "outputs": [],
   "source": [
    "# Use a regex to turn the variable whitespace between columns into commas\n",
    "df[0] = df[0].str.strip().str.replace(\"(\\s{1,})\", \",\")"
   ]
  },
  {
   "cell_type": "code",
   "execution_count": null,
   "metadata": {
    "execution": {
     "iopub.execute_input": "2020-05-06T17:36:15.514073Z",
     "iopub.status.busy": "2020-05-06T17:36:15.513446Z",
     "iopub.status.idle": "2020-05-06T17:36:15.515620Z",
     "shell.execute_reply": "2020-05-06T17:36:15.516056Z"
    },
    "papermill": {
     "duration": null,
     "end_time": null,
     "exception": null,
     "start_time": null,
     "status": "pending"
    },
    "tags": []
   },
   "outputs": [],
   "source": [
    "# Split the column by commas and expand into columns\n",
    "df = df[0].str.split(',', expand=True)"
   ]
  },
  {
   "cell_type": "code",
   "execution_count": null,
   "metadata": {
    "execution": {
     "iopub.execute_input": "2020-05-06T17:36:15.550810Z",
     "iopub.status.busy": "2020-05-06T17:36:15.550187Z",
     "iopub.status.idle": "2020-05-06T17:36:15.551987Z",
     "shell.execute_reply": "2020-05-06T17:36:15.552385Z"
    },
    "papermill": {
     "duration": null,
     "end_time": null,
     "exception": null,
     "start_time": null,
     "status": "pending"
    },
    "tags": []
   },
   "outputs": [],
   "source": [
    "# Set the column headers\n",
    "columns = [\"yr\", \"mon\", \"day\", \"decimal\", \"ppm\", \"days\", \"1_yr_ago\", \"10_yr_ago\", \"since_1800\"]\n",
    "df.columns=columns"
   ]
  },
  {
   "cell_type": "code",
   "execution_count": null,
   "metadata": {
    "execution": {
     "iopub.execute_input": "2020-05-06T17:36:15.588735Z",
     "iopub.status.busy": "2020-05-06T17:36:15.588146Z",
     "iopub.status.idle": "2020-05-06T17:36:15.589817Z",
     "shell.execute_reply": "2020-05-06T17:36:15.590282Z"
    },
    "papermill": {
     "duration": null,
     "end_time": null,
     "exception": null,
     "start_time": null,
     "status": "pending"
    },
    "tags": []
   },
   "outputs": [],
   "source": [
    "# Replace -999.99 with NAs\n",
    "df = df.replace('-999.99', np.nan)"
   ]
  },
  {
   "cell_type": "code",
   "execution_count": null,
   "metadata": {
    "execution": {
     "iopub.execute_input": "2020-05-06T17:36:15.628953Z",
     "iopub.status.busy": "2020-05-06T17:36:15.627940Z",
     "iopub.status.idle": "2020-05-06T17:36:15.637298Z",
     "shell.execute_reply": "2020-05-06T17:36:15.637705Z"
    },
    "papermill": {
     "duration": null,
     "end_time": null,
     "exception": null,
     "start_time": null,
     "status": "pending"
    },
    "tags": []
   },
   "outputs": [],
   "source": [
    "# Create datetime column\n",
    "df['date'] = pd.to_datetime(dict(year=df['yr'], month=df['mon'], day=df['day']))"
   ]
  },
  {
   "cell_type": "code",
   "execution_count": null,
   "metadata": {
    "execution": {
     "iopub.execute_input": "2020-05-06T17:36:15.717576Z",
     "iopub.status.busy": "2020-05-06T17:36:15.713130Z",
     "iopub.status.idle": "2020-05-06T17:36:15.719939Z",
     "shell.execute_reply": "2020-05-06T17:36:15.720324Z"
    },
    "papermill": {
     "duration": null,
     "end_time": null,
     "exception": null,
     "start_time": null,
     "status": "pending"
    },
    "tags": []
   },
   "outputs": [],
   "source": [
    "# Set types\n",
    "df['ppm'] = df['ppm'].apply(pd.to_numeric)"
   ]
  },
  {
   "cell_type": "code",
   "execution_count": null,
   "metadata": {
    "execution": {
     "iopub.execute_input": "2020-05-06T17:36:15.759437Z",
     "iopub.status.busy": "2020-05-06T17:36:15.758890Z",
     "iopub.status.idle": "2020-05-06T17:36:15.767246Z",
     "shell.execute_reply": "2020-05-06T17:36:15.767628Z"
    },
    "papermill": {
     "duration": null,
     "end_time": null,
     "exception": null,
     "start_time": null,
     "status": "pending"
    },
    "tags": []
   },
   "outputs": [],
   "source": [
    "df.tail()"
   ]
  },
  {
   "cell_type": "code",
   "execution_count": null,
   "metadata": {
    "execution": {
     "iopub.execute_input": "2020-05-06T17:36:15.814096Z",
     "iopub.status.busy": "2020-05-06T17:36:15.813533Z",
     "iopub.status.idle": "2020-05-06T17:36:16.622241Z",
     "shell.execute_reply": "2020-05-06T17:36:16.622711Z"
    },
    "papermill": {
     "duration": null,
     "end_time": null,
     "exception": null,
     "start_time": null,
     "status": "pending"
    },
    "tags": []
   },
   "outputs": [],
   "source": [
    "sns.set()\n",
    "fig, ax = plt.subplots(figsize=(8,8))\n",
    "sns.lineplot(x='date', y='ppm', data=df)\n",
    "plt.title(\"Weekly Atmospheric CO2 concentration at Mauna Loa Observatory\")\n",
    "plt.savefig('output/co2_concentration.png', dpi=150, bbox_inches='tight')"
   ]
  },
  {
   "cell_type": "markdown",
   "metadata": {
    "papermill": {
     "duration": null,
     "end_time": null,
     "exception": null,
     "start_time": null,
     "status": "pending"
    },
    "tags": []
   },
   "source": [
    "## Call a python script\n",
    "\n",
    "Notebooks often interact with custom scripts.  \n",
    "The script `my_script.py` is called into this notebook and a function executed."
   ]
  },
  {
   "cell_type": "code",
   "execution_count": null,
   "metadata": {
    "execution": {
     "iopub.execute_input": "2020-05-06T17:36:16.695538Z",
     "iopub.status.busy": "2020-05-06T17:36:16.694887Z",
     "iopub.status.idle": "2020-05-06T17:36:16.698280Z",
     "shell.execute_reply": "2020-05-06T17:36:16.698819Z"
    },
    "papermill": {
     "duration": null,
     "end_time": null,
     "exception": null,
     "start_time": null,
     "status": "pending"
    },
    "tags": []
   },
   "outputs": [],
   "source": [
    "# This depends on which directory you are running jupyter from\n",
    "\n",
    "# from examples.hello_treebeard.my_script import greeter # project root\n",
    "from my_script import greeter # or hello_treebeard\n",
    "\n",
    "greeter('World')"
   ]
  },
  {
   "cell_type": "markdown",
   "metadata": {
    "papermill": {
     "duration": null,
     "end_time": null,
     "exception": null,
     "start_time": null,
     "status": "pending"
    },
    "tags": []
   },
   "source": [
    "## Running Treebeard\n",
    "\n",
    "Ok, let's run this in the cloud!  \n",
    "You'll need to run `treebeard configure` in the command line to register your account.  \n",
    "For a new project you'll need to run `treebeard setup` in the project directory to create a `treebeard.yaml` file. However this has already been done. \n",
    "\n",
    "In the command line run `treebeard run` to compress the project folder, create a docker container and request a cloud build.  \n",
    "\n",
    "You will receive a link to the admin page where you can see results after a few minutes.  \n",
    "It is simple to add a schedule flag to this command: `treebeard run --daily`\n",
    "\n",
    "The saved image outputs can be seen in the admin page, see [the documentation](https://treebeard.readthedocs.io/en/latest/outputs.html) for the URL schema to access them."
   ]
  }
 ],
 "metadata": {
  "kernelspec": {
   "display_name": "hello_treebeard",
   "language": "python",
   "name": "hello_treebeard"
  },
  "language_info": {
   "codemirror_mode": {
    "name": "ipython",
    "version": 3
   },
   "file_extension": ".py",
   "mimetype": "text/x-python",
   "name": "python",
   "nbconvert_exporter": "python",
   "pygments_lexer": "ipython3",
   "version": "3.7.6"
  },
  "papermill": {
   "duration": 2.256834,
   "end_time": "2020-06-29T13:33:31.525771",
   "environment_variables": {},
   "exception": true,
   "input_path": "main.ipynb",
   "output_path": "main.ipynb",
   "parameters": {},
   "start_time": "2020-06-29T13:33:29.268937",
   "version": "2.1.0"
  },
  "toc": {
   "base_numbering": 1,
   "nav_menu": {
    "height": "134px",
    "width": "215px"
   },
   "number_sections": true,
   "sideBar": true,
   "skip_h1_title": false,
   "title_cell": "Table of Contents",
   "title_sidebar": "Contents",
   "toc_cell": false,
   "toc_position": {},
   "toc_section_display": true,
   "toc_window_display": false
  }
 },
 "nbformat": 4,
 "nbformat_minor": 4
}
