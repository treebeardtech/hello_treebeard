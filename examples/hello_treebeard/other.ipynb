{
 "cells": [
  {
   "cell_type": "code",
   "execution_count": null,
   "metadata": {
    "execution": {
     "iopub.execute_input": "2020-06-29T13:33:32.226940Z",
     "iopub.status.busy": "2020-06-29T13:33:32.226078Z",
     "iopub.status.idle": "2020-06-29T13:33:32.228942Z",
     "shell.execute_reply": "2020-06-29T13:33:32.229597Z"
    },
    "papermill": {
     "duration": 0.012994,
     "end_time": "2020-06-29T13:33:32.229796",
     "exception": false,
     "start_time": "2020-06-29T13:33:32.216802",
     "status": "completed"
    },
    "tags": []
   },
   "outputs": [],
   "source": [
    "print('other')"
   ]
  }
 ],
 "metadata": {
  "kernelspec": {
   "display_name": "Python 3",
   "language": "python",
   "name": "python3"
  },
  "language_info": {
   "codemirror_mode": {
    "name": "ipython",
    "version": 3
   },
   "file_extension": ".py",
   "mimetype": "text/x-python",
   "name": "python",
   "nbconvert_exporter": "python",
   "pygments_lexer": "ipython3",
   "version": "3.7.7"
  },
  "papermill": {
   "duration": 0.779955,
   "end_time": "2020-06-29T13:33:32.340976",
   "environment_variables": {},
   "exception": null,
   "input_path": "other.ipynb",
   "output_path": "other.ipynb",
   "parameters": {},
   "start_time": "2020-06-29T13:33:31.561021",
   "version": "2.1.1"
  },
  "toc": {
   "base_numbering": 1,
   "nav_menu": {},
   "number_sections": true,
   "sideBar": true,
   "skip_h1_title": false,
   "title_cell": "Table of Contents",
   "title_sidebar": "Contents",
   "toc_cell": false,
   "toc_position": {},
   "toc_section_display": true,
   "toc_window_display": false
  }
 },
 "nbformat": 4,
 "nbformat_minor": 4
}
