{
 "cells": [
  {
   "cell_type": "markdown",
   "metadata": {},
   "source": [
    "# NG Data Portal API Wrapper Development\n",
    "\n",
    "<br>\n",
    "\n",
    "This notebook documents the development of an API wrapper for the National Grid Data Portal. \n",
    "\n",
    "It starts by looking at a single data stream, containing the percentage generation of each fuel, moving from basic requests to more developed and generalisable queries. During this process potential areas for user error are identified and warnings put in place to help guide them in their usage. Finally the groups of functions are combined into a single wrapper class within the NGDataPortal script.\n",
    "\n",
    "The next stage is to identify the different data streams and create a mapping to their resource ids.\n",
    "\n",
    "<br>\n",
    "\n",
    "### Imports"
   ]
  },
  {
   "cell_type": "code",
   "execution_count": null,
   "metadata": {},
   "outputs": [],
   "source": [
    "import json\n",
    "import pandas as pd\n",
    "import numpy as np\n",
    "\n",
    "import matplotlib.pyplot as plt\n",
    "import seaborn as sns\n",
    "\n",
    "import requests\n",
    "from bs4 import BeautifulSoup\n",
    "\n",
    "import warnings\n",
    "from itertools import islice\n",
    "\n",
    "from IPython.core.display import display, HTML"
   ]
  },
  {
   "cell_type": "markdown",
   "metadata": {},
   "source": [
    "<br>\n",
    "\n",
    "### Helper Functions"
   ]
  },
  {
   "cell_type": "code",
   "execution_count": null,
   "metadata": {},
   "outputs": [],
   "source": [
    "def take(iterable, n=5):\n",
    "    \"Return first n items of the iterable as a list\"\n",
    "    return list(islice(iterable, n))"
   ]
  },
  {
   "cell_type": "markdown",
   "metadata": {},
   "source": [
    "<br>\n",
    "\n",
    "### Retrieving Package Information\n",
    "\n",
    "We can retrieve information relating to specific data streams through their respective datapackage.jsons"
   ]
  },
  {
   "cell_type": "code",
   "execution_count": null,
   "metadata": {},
   "outputs": [],
   "source": [
    "form_package_url = lambda group, stream: f'https://national-grid.ckan.io/{group}/{stream}/datapackage.json'\n",
    "\n",
    "group = 'generation'\n",
    "stream = 'generation-mix-national'\n",
    "\n",
    "package_url = form_package_url(group, stream)\n",
    "r_package = requests.get(package_url)\n",
    "\n",
    "r_package"
   ]
  },
  {
   "cell_type": "markdown",
   "metadata": {},
   "source": [
    "<br>\n",
    "\n",
    "These include general information about the data stream"
   ]
  },
  {
   "cell_type": "code",
   "execution_count": null,
   "metadata": {},
   "outputs": [],
   "source": [
    "package_desc = r_package.json()['resources'][0]['descriptionHtml']\n",
    "\n",
    "display(HTML(package_desc))"
   ]
  },
  {
   "cell_type": "markdown",
   "metadata": {},
   "source": [
    "<br>\n",
    "\n",
    "As well as important attributes such as the resource id, with this we can now access the API data feeds"
   ]
  },
  {
   "cell_type": "code",
   "execution_count": null,
   "metadata": {},
   "outputs": [],
   "source": [
    "resource_id = r_package.json()['resources'][0]['id']\n",
    "\n",
    "resource_id"
   ]
  },
  {
   "cell_type": "markdown",
   "metadata": {},
   "source": [
    "<br>\n",
    "\n",
    "### Creating the API Wrapper\n",
    "\n",
    "We start the API wrapper development by creating a function which constructs the url for the relevant endpoint and then makes a request to it."
   ]
  },
  {
   "cell_type": "code",
   "execution_count": null,
   "metadata": {},
   "outputs": [],
   "source": [
    "def NG_request(resource_id, params={}):    \n",
    "    url_root = 'https://national-grid-admin.ckan.io/api/3/action/datastore_search'\n",
    "    \n",
    "    params.update({'resource_id':resource_id})\n",
    "    \n",
    "    if 'sql' in params.keys():\n",
    "        url_root += '_sql'\n",
    "        \n",
    "    r = requests.get(url_root, params=params)\n",
    "    \n",
    "    return r\n",
    "\n",
    "r = NG_request(resource_id)\n",
    "df = pd.DataFrame(r.json()['result']['records'])\n",
    "\n",
    "df.head(2)"
   ]
  },
  {
   "cell_type": "markdown",
   "metadata": {},
   "source": [
    "<br>\n",
    "\n",
    "Before we take this further we want to add some checks which confirm the call was successful and if not exposes the error message returned by the API. We create a wrapper for the error to enable its assignment as a dictionary value in the next section."
   ]
  },
  {
   "cell_type": "code",
   "execution_count": null,
   "metadata": {},
   "outputs": [],
   "source": [
    "def raise_(err_txt, error=ValueError): \n",
    "    raise error(err_txt)\n",
    "    \n",
    "def check_request_success(r_json):\n",
    "    if r_json['success'] == False:\n",
    "        err_msg = r_json['error']['message']\n",
    "        raise_(err_msg)\n",
    "        \n",
    "r = NG_request('incorrect_resource_id')\n",
    "r_json = r.json()\n",
    "\n",
    "#check_request_success(r_json)"
   ]
  },
  {
   "cell_type": "markdown",
   "metadata": {},
   "source": [
    "<br>\n",
    "\n",
    "The most common 'advanced' query to the API will include some specification around the date range for the data, within CKAN we can use SQL to construct these specific requests."
   ]
  },
  {
   "cell_type": "code",
   "execution_count": null,
   "metadata": {},
   "outputs": [],
   "source": [
    "date_between = lambda dt_col, resource_id, start_date, end_date: f'SELECT * from \"{resource_id}\" WHERE \"{dt_col}\" BETWEEN \\'{start_date}\\'::timestamp AND \\'{end_date}\\'::timestamp ORDER BY \"{dt_col}\"' \n",
    "date_less_than = lambda dt_col, resource_id, date: f'SELECT * from \"{resource_id}\" WHERE \"{dt_col}\" < \\'{date}\\'::timestamp ORDER BY \"{dt_col}\"' \n",
    "date_greater_than = lambda dt_col, resource_id, date: f'SELECT * from \"{resource_id}\" WHERE \"{dt_col}\" > \\'{date}\\'::timestamp ORDER BY \"{dt_col}\"' \n",
    "\n",
    "def form_dt_rng_sql_query(dt_col, resource_id, start_date=None, end_date=None):\n",
    "    start_end_date_exist = (start_date!=None, end_date!=None)\n",
    "    \n",
    "    func_map = {\n",
    "        (False, False) : {'error' : 'A start and/or end date should be passed'},\n",
    "        (True, True) : date_between(dt_col, resource_id, start_date, end_date),\n",
    "        (False, True) : date_less_than(dt_col, resource_id, end_date),\n",
    "        (True, False) : date_greater_than(dt_col, resource_id, start_date),\n",
    "    }\n",
    "    \n",
    "    sql = func_map[start_end_date_exist]\n",
    "    \n",
    "    if not isinstance(sql, str):\n",
    "        raise_(sql['error'])\n",
    "    \n",
    "    return sql\n",
    "    \n",
    "dt_col = 'dateTime_from'\n",
    "start_date = '2019-12-30'\n",
    "end_date = '2019-12-31'\n",
    "\n",
    "sql = form_dt_rng_sql_query(dt_col, resource_id, start_date=start_date, end_date=end_date)\n",
    "\n",
    "print(sql)"
   ]
  },
  {
   "cell_type": "markdown",
   "metadata": {},
   "source": [
    "<br>\n",
    "\n",
    "We're now ready to put this all together into a single function"
   ]
  },
  {
   "cell_type": "code",
   "execution_count": null,
   "metadata": {},
   "outputs": [],
   "source": [
    "def query_API(resource_id, params={}, start_date=None, end_date=None, dt_col=None, sql=None, return_raw=False):\n",
    "    ## Handling SQL queries\n",
    "    if start_date or end_date:\n",
    "        if sql:\n",
    "            warnings.warn('The start and end date query will overwrite the provided SQL')\n",
    "        \n",
    "        if not dt_col:\n",
    "            raise_('If a start or end date has been provided the \\'dt_col\\' parameter must be provided')\n",
    "        \n",
    "        sql = form_dt_rng_sql_query(dt_col, resource_id, start_date=start_date, end_date=end_date)\n",
    "        params.update({'sql':sql})\n",
    "    \n",
    "    elif sql:\n",
    "        params.update({'sql':sql})\n",
    "    \n",
    "    ## Making the request\n",
    "    r = NG_request(resource_id, params=params)\n",
    "    \n",
    "    if return_raw == True:\n",
    "        return r\n",
    "\n",
    "    ## Checking and parsing the response\n",
    "    r_json = r.json()\n",
    "    check_request_success(r_json)\n",
    "    \n",
    "    df = pd.DataFrame(r_json['result']['records'])\n",
    "        \n",
    "    return df\n",
    "\n",
    "start_date = '2019-12-20 12:00'\n",
    "end_date = '2019-12-22'\n",
    "dt_col = 'dateTime_from'\n",
    "\n",
    "df = query_API(resource_id, start_date=start_date, end_date=end_date, dt_col=dt_col)\n",
    "\n",
    "df.head(2)"
   ]
  },
  {
   "cell_type": "markdown",
   "metadata": {},
   "source": [
    "<br>\n",
    "\n",
    "Which makes it far easier to query any of the data streams"
   ]
  },
  {
   "cell_type": "code",
   "execution_count": null,
   "metadata": {},
   "outputs": [],
   "source": [
    "RES_fcst_resource_id = 'db6c038f-98af-4570-ab60-24d71ebd0ae5'\n",
    "\n",
    "df = query_API(RES_fcst_resource_id)\n",
    "\n",
    "df.head()"
   ]
  },
  {
   "cell_type": "markdown",
   "metadata": {},
   "source": [
    "<br>\n",
    "\n",
    "This can then be used to create a module which contains all of the neccessary equations"
   ]
  },
  {
   "cell_type": "code",
   "execution_count": null,
   "metadata": {},
   "outputs": [],
   "source": []
  },
  {
   "cell_type": "code",
   "execution_count": null,
   "metadata": {},
   "outputs": [],
   "source": [
    "from NGDataPortal import Wrapper\n",
    "\n",
    "RES_stream = 'embedded-wind-and-solar-forecasts'\n",
    "wrapper = Wrapper(stream=RES_stream)\n",
    "\n",
    "df = wrapper.query_API()\n",
    "\n",
    "df.head()"
   ]
  },
  {
   "cell_type": "markdown",
   "metadata": {},
   "source": [
    "<br>\n",
    "\n",
    "### Collecting Metadata for Available Streams"
   ]
  },
  {
   "cell_type": "code",
   "execution_count": null,
   "metadata": {},
   "outputs": [],
   "source": [
    "url_search_NGDataPortal = lambda q, from_: f'https://data.nationalgrideso.com/search?q={q}&from={from_}&sort=score:desc'\n",
    "\n",
    "search_url = url_search_NGDataPortal('', 0)\n",
    "r = requests.get(search_url)\n",
    "\n",
    "r"
   ]
  },
  {
   "cell_type": "code",
   "execution_count": null,
   "metadata": {},
   "outputs": [],
   "source": []
  },
  {
   "cell_type": "code",
   "execution_count": null,
   "metadata": {},
   "outputs": [],
   "source": [
    "def response_2_resource_links(r):\n",
    "    soup = BeautifulSoup(r.content)\n",
    "\n",
    "    resource_links = soup.findAll('a', {'class':'text-orange hover:text-gray-800'})\n",
    "    resource_links = [resource_link['href'] for resource_link in resource_links]\n",
    "\n",
    "    return resource_links\n",
    "\n",
    "resource_links = response_2_resource_links(r)\n",
    "\n",
    "resource_links"
   ]
  },
  {
   "cell_type": "code",
   "execution_count": null,
   "metadata": {},
   "outputs": [],
   "source": []
  },
  {
   "cell_type": "code",
   "execution_count": null,
   "metadata": {},
   "outputs": [],
   "source": [
    "resource_links = []\n",
    "num_page_resource_links = 1\n",
    "\n",
    "while num_page_resource_links > 0:\n",
    "    search_url = url_search_NGDataPortal('', len(resource_links))\n",
    "    r = requests.get(search_url)\n",
    "    \n",
    "    page_resource_links = response_2_resource_links(r)\n",
    "    num_page_resource_links = len(page_resource_links)\n",
    "    \n",
    "    resource_links += page_resource_links\n",
    "    \n",
    "print(f'There are a total of {len(resource_links)} data streams available through the National Grid portal')\n",
    "\n",
    "df_resources = (pd.Series(resource_links)\n",
    "                .str[1:]\n",
    "                .str.split('/')\n",
    "                .apply(pd.Series)\n",
    "                .rename(columns={0:'group', 1:'stream'})\n",
    "               )\n",
    "\n",
    "df_resources.head()"
   ]
  },
  {
   "cell_type": "code",
   "execution_count": null,
   "metadata": {},
   "outputs": [],
   "source": []
  },
  {
   "cell_type": "code",
   "execution_count": null,
   "metadata": {},
   "outputs": [],
   "source": [
    "def package_url_2_metadata(package_url):\n",
    "    r_package = requests.get(package_url)\n",
    "    r_json = r_package.json()\n",
    "\n",
    "    package_metadata = dict()\n",
    "\n",
    "    package_metadata['package_desc'] = r_json['resources'][0]['description']\n",
    "    package_metadata['resource_id'] = r_json['resources'][0]['id']\n",
    "\n",
    "    return package_metadata\n",
    "\n",
    "group = 'generation'\n",
    "stream = 'generation-mix-national'\n",
    "\n",
    "package_url = form_package_url(group, stream)\n",
    "package_metadata = package_url_2_metadata(package_url)\n",
    "\n",
    "package_metadata"
   ]
  },
  {
   "cell_type": "code",
   "execution_count": null,
   "metadata": {},
   "outputs": [],
   "source": []
  },
  {
   "cell_type": "code",
   "execution_count": null,
   "metadata": {},
   "outputs": [],
   "source": [
    "%%time\n",
    "\n",
    "identify_resource_ids = False\n",
    "\n",
    "if identify_resource_ids == True:\n",
    "    for idx, (group, stream) in df_resources.iterrows():\n",
    "        package_url = form_package_url(group, stream)\n",
    "        package_metadata = package_url_2_metadata(package_url)\n",
    "\n",
    "        df_resources.loc[idx, 'resource_id'] = package_metadata['resource_id']\n",
    "\n",
    "    stream_2_id_map = df_resources.set_index('stream')['resource_id'].to_dict()\n",
    "\n",
    "    print(dict(take(stream_2_id_map.items())))"
   ]
  },
  {
   "cell_type": "code",
   "execution_count": null,
   "metadata": {},
   "outputs": [],
   "source": []
  },
  {
   "cell_type": "code",
   "execution_count": null,
   "metadata": {},
   "outputs": [],
   "source": [
    "if identify_resource_ids == True:\n",
    "    with open('stream_to_resource_id.json', 'w') as fp:\n",
    "        json.dump(stream_2_id_map, fp)"
   ]
  },
  {
   "cell_type": "code",
   "execution_count": null,
   "metadata": {},
   "outputs": [],
   "source": []
  },
  {
   "cell_type": "code",
   "execution_count": null,
   "metadata": {},
   "outputs": [],
   "source": [
    "stream = 'current-balancing-services-use-of-system-bsuos-data'\n",
    "wrapper = Wrapper(stream=stream)\n",
    "\n",
    "start_date = '2019-12-20'\n",
    "end_date = '2019-12-22'\n",
    "dt_col = 'Settlement Day'\n",
    "\n",
    "df = wrapper.query_API(start_date=start_date, end_date=end_date, dt_col=dt_col)\n",
    "\n",
    "df.head(2)"
   ]
  },
  {
   "cell_type": "code",
   "execution_count": null,
   "metadata": {},
   "outputs": [],
   "source": []
  },
  {
   "cell_type": "code",
   "execution_count": null,
   "metadata": {},
   "outputs": [],
   "source": [
    "stream = 'weekly-wind-availability'\n",
    "wrapper = Wrapper(stream)\n",
    "\n",
    "df = wrapper.query_API()\n",
    "\n",
    "df.head()"
   ]
  },
  {
   "cell_type": "code",
   "execution_count": null,
   "metadata": {},
   "outputs": [],
   "source": []
  },
  {
   "cell_type": "code",
   "execution_count": null,
   "metadata": {},
   "outputs": [],
   "source": [
    "stream = 'embedded-wind-and-solar-forecasts'\n",
    "wrapper = Wrapper(stream)\n",
    "\n",
    "df = wrapper.query_API()\n",
    "\n",
    "df.head()"
   ]
  }
 ],
 "metadata": {
  "kernelspec": {
   "display_name": "Python 3",
   "language": "python",
   "name": "python3"
  },
  "language_info": {
   "codemirror_mode": {
    "name": "ipython",
    "version": 3
   },
   "file_extension": ".py",
   "mimetype": "text/x-python",
   "name": "python",
   "nbconvert_exporter": "python",
   "pygments_lexer": "ipython3",
   "version": "3.6.8"
  }
 },
 "nbformat": 4,
 "nbformat_minor": 4
}
