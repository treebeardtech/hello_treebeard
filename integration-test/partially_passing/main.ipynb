{
 "cells": [
  {
   "cell_type": "markdown",
   "metadata": {},
   "source": [
    "# Dagster Example"
   ]
  },
  {
   "cell_type": "code",
   "execution_count": 5,
   "metadata": {},
   "outputs": [],
   "source": [
    "from dagster import execute_pipeline\n",
    "from hello_cereal import hello_cereal_pipeline"
   ]
  },
  {
   "cell_type": "code",
   "execution_count": 6,
   "metadata": {},
   "outputs": [
    {
     "name": "stderr",
     "output_type": "stream",
     "text": [
      "2020-02-21 14:03:43 - dagster - DEBUG - hello_cereal_pipeline - c71d0774-d8fe-4efa-8edf-7fc86c060bff - PIPELINE_START - Started execution of pipeline \"hello_cereal_pipeline\".\n",
      "2020-02-21 14:03:43 - dagster - DEBUG - hello_cereal_pipeline - c71d0774-d8fe-4efa-8edf-7fc86c060bff - ENGINE_EVENT - Executing steps in process (pid: 9635)\n",
      " event_specific_data = {\"error\": null, \"metadata_entries\": [[\"pid\", null, [\"9635\"]], [\"step_keys\", null, [\"['hello_cereal.compute']\"]]]}\n",
      "2020-02-21 14:03:43 - dagster - DEBUG - hello_cereal_pipeline - c71d0774-d8fe-4efa-8edf-7fc86c060bff - STEP_START - Started execution of step \"hello_cereal.compute\".\n",
      "               solid = \"hello_cereal\"\n",
      "    solid_definition = \"hello_cereal\"\n",
      "            step_key = \"hello_cereal.compute\"\n",
      "2020-02-21 14:03:43 - dagster - INFO - system - c71d0774-d8fe-4efa-8edf-7fc86c060bff - Found 77 cereals.\n",
      "               solid = \"hello_cereal\"\n",
      "    solid_definition = \"hello_cereal\"\n",
      "            step_key = \"hello_cereal.compute\"\n",
      "2020-02-21 14:03:43 - dagster - DEBUG - hello_cereal_pipeline - c71d0774-d8fe-4efa-8edf-7fc86c060bff - STEP_OUTPUT - Yielded output \"result\" of type \"Any\". (Type check passed).\n",
      " event_specific_data = {\"intermediate_materialization\": null, \"step_output_handle\": [\"hello_cereal.compute\", \"result\"], \"type_check_data\": [true, \"result\", null, []]}\n",
      "               solid = \"hello_cereal\"\n",
      "    solid_definition = \"hello_cereal\"\n",
      "            step_key = \"hello_cereal.compute\"\n",
      "2020-02-21 14:03:43 - dagster - DEBUG - hello_cereal_pipeline - c71d0774-d8fe-4efa-8edf-7fc86c060bff - STEP_SUCCESS - Finished execution of step \"hello_cereal.compute\" in 3.76ms.\n",
      " event_specific_data = {\"duration_ms\": 3.764810000006946}\n",
      "               solid = \"hello_cereal\"\n",
      "    solid_definition = \"hello_cereal\"\n",
      "            step_key = \"hello_cereal.compute\"\n",
      "2020-02-21 14:03:43 - dagster - DEBUG - hello_cereal_pipeline - c71d0774-d8fe-4efa-8edf-7fc86c060bff - ENGINE_EVENT - Finished steps in process (pid: 9635) in 6.5ms\n",
      " event_specific_data = {\"error\": null, \"metadata_entries\": [[\"pid\", null, [\"9635\"]], [\"step_keys\", null, [\"['hello_cereal.compute']\"]]]}\n",
      "2020-02-21 14:03:43 - dagster - DEBUG - hello_cereal_pipeline - c71d0774-d8fe-4efa-8edf-7fc86c060bff - PIPELINE_SUCCESS - Finished execution of pipeline \"hello_cereal_pipeline\".\n"
     ]
    }
   ],
   "source": [
    "result = execute_pipeline(hello_cereal_pipeline)\n",
    "assert result.success"
   ]
  }
 ],
 "metadata": {
  "kernelspec": {
   "display_name": "Python 3.7.6 64-bit ('venv': virtualenv)",
   "language": "python",
   "name": "python37664bitvenvvirtualenv269d09d99c924458ad3b590976022eb0"
  },
  "language_info": {
   "codemirror_mode": {
    "name": "ipython",
    "version": 3
   },
   "file_extension": ".py",
   "mimetype": "text/x-python",
   "name": "python",
   "nbconvert_exporter": "python",
   "pygments_lexer": "ipython3",
   "version": "3.7.6"
  },
  "toc": {
   "base_numbering": 1,
   "nav_menu": {},
   "number_sections": true,
   "sideBar": true,
   "skip_h1_title": false,
   "title_cell": "Table of Contents",
   "title_sidebar": "Contents",
   "toc_cell": false,
   "toc_position": {},
   "toc_section_display": true,
   "toc_window_display": false
  }
 },
 "nbformat": 4,
 "nbformat_minor": 4
}
