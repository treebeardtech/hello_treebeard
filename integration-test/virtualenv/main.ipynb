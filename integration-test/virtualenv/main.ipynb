{
 "cells": [
  {
   "cell_type": "markdown",
   "metadata": {
    "papermill": {
     "duration": 0.008063,
     "end_time": "2020-04-01T16:52:39.649767",
     "exception": false,
     "start_time": "2020-04-01T16:52:39.641704",
     "status": "completed"
    },
    "tags": []
   },
   "source": [
    "# Example 2\n",
    "\n",
    "Created using python virtualenv."
   ]
  },
  {
   "cell_type": "code",
   "execution_count": null,
   "metadata": {
    "execution": {
     "iopub.execute_input": "2020-04-01T16:52:39.665711Z",
     "iopub.status.busy": "2020-04-01T16:52:39.664908Z",
     "iopub.status.idle": "2020-04-01T16:53:02.586628Z",
     "shell.execute_reply": "2020-04-01T16:53:02.588210Z"
    },
    "papermill": {
     "duration": 22.933888,
     "end_time": "2020-04-01T16:53:02.588650",
     "exception": false,
     "start_time": "2020-04-01T16:52:39.654762",
     "status": "completed"
    },
    "tags": []
   },
   "outputs": [],
   "source": [
    "# install some dependencies\n",
    "!pip install pandas numpy matplotlib sklearn"
   ]
  },
  {
   "cell_type": "markdown",
   "metadata": {
    "papermill": {
     "duration": 0.015476,
     "end_time": "2020-04-01T16:53:02.624432",
     "exception": false,
     "start_time": "2020-04-01T16:53:02.608956",
     "status": "completed"
    },
    "tags": []
   },
   "source": [
    "## Take an example from the internet:\n",
    "**Spectral clustering for image segmentation**  \n",
    "https://scikit-learn.org/stable/auto_examples/cluster/plot_segmentation_toy.html"
   ]
  },
  {
   "cell_type": "code",
   "execution_count": null,
   "metadata": {
    "execution": {
     "iopub.execute_input": "2020-04-01T16:53:02.666482Z",
     "iopub.status.busy": "2020-04-01T16:53:02.665874Z",
     "iopub.status.idle": "2020-04-01T16:53:10.922129Z",
     "shell.execute_reply": "2020-04-01T16:53:10.922474Z"
    },
    "papermill": {
     "duration": 8.284101,
     "end_time": "2020-04-01T16:53:10.922617",
     "exception": false,
     "start_time": "2020-04-01T16:53:02.638516",
     "status": "completed"
    },
    "tags": []
   },
   "outputs": [],
   "source": [
    "print(__doc__)\n",
    "\n",
    "# Authors:  Emmanuelle Gouillart <emmanuelle.gouillart@normalesup.org>\n",
    "#           Gael Varoquaux <gael.varoquaux@normalesup.org>\n",
    "# License: BSD 3 clause\n",
    "\n",
    "import numpy as np\n",
    "import matplotlib.pyplot as plt\n",
    "\n",
    "from sklearn.feature_extraction import image\n",
    "from sklearn.cluster import spectral_clustering\n",
    "\n",
    "import treebeard\n",
    "\n",
    "l = 100\n",
    "x, y = np.indices((l, l))\n",
    "\n",
    "center1 = (28, 24)\n",
    "center2 = (40, 50)\n",
    "center3 = (67, 58)\n",
    "center4 = (24, 70)\n",
    "\n",
    "radius1, radius2, radius3, radius4 = 16, 14, 15, 14\n",
    "\n",
    "circle1 = (x - center1[0]) ** 2 + (y - center1[1]) ** 2 < radius1 ** 2\n",
    "circle2 = (x - center2[0]) ** 2 + (y - center2[1]) ** 2 < radius2 ** 2\n",
    "circle3 = (x - center3[0]) ** 2 + (y - center3[1]) ** 2 < radius3 ** 2\n",
    "circle4 = (x - center4[0]) ** 2 + (y - center4[1]) ** 2 < radius4 ** 2\n",
    "\n",
    "# #############################################################################\n",
    "# 4 circles\n",
    "img = circle1 + circle2 + circle3 + circle4\n",
    "\n",
    "# We use a mask that limits to the foreground: the problem that we are\n",
    "# interested in here is not separating the objects from the background,\n",
    "# but separating them one from the other.\n",
    "mask = img.astype(bool)\n",
    "\n",
    "img = img.astype(float)\n",
    "img += 1 + 0.2 * np.random.randn(*img.shape)\n",
    "\n",
    "# Convert the image into a graph with the value of the gradient on the\n",
    "# edges.\n",
    "graph = image.img_to_graph(img, mask=mask)\n",
    "\n",
    "# Take a decreasing function of the gradient: we take it weakly\n",
    "# dependent from the gradient the segmentation is close to a voronoi\n",
    "graph.data = np.exp(-graph.data / graph.data.std())\n",
    "\n",
    "# Force the solver to be arpack, since amg is numerically\n",
    "# unstable on this example\n",
    "labels = spectral_clustering(graph, n_clusters=4, eigen_solver='arpack')\n",
    "label_im = np.full(mask.shape, -1.)\n",
    "label_im[mask] = labels\n",
    "\n",
    "plt.matshow(img)\n",
    "plt.matshow(label_im)\n",
    "\n",
    "# #############################################################################\n",
    "# 2 circles\n",
    "img = circle1 + circle2\n",
    "mask = img.astype(bool)\n",
    "img = img.astype(float)\n",
    "\n",
    "img += 1 + 0.2 * np.random.randn(*img.shape)\n",
    "\n",
    "graph = image.img_to_graph(img, mask=mask)\n",
    "graph.data = np.exp(-graph.data / graph.data.std())\n",
    "\n",
    "labels = spectral_clustering(graph, n_clusters=2, eigen_solver='arpack')\n",
    "label_im = np.full(mask.shape, -1.)\n",
    "label_im[mask] = labels\n",
    "\n",
    "plt.matshow(img)\n",
    "plt.matshow(label_im)\n",
    "\n",
    "plt.savefig('output/graph.png')\n",
    "plt.show()"
   ]
  },
  {
   "cell_type": "markdown",
   "metadata": {
    "papermill": {
     "duration": 0.017873,
     "end_time": "2020-04-01T16:53:10.958727",
     "exception": false,
     "start_time": "2020-04-01T16:53:10.940854",
     "status": "completed"
    },
    "tags": []
   },
   "source": [
    "# Save dependencies"
   ]
  },
  {
   "cell_type": "code",
   "execution_count": null,
   "metadata": {
    "execution": {
     "iopub.execute_input": "2020-04-01T16:53:11.002238Z",
     "iopub.status.busy": "2020-04-01T16:53:11.001591Z",
     "iopub.status.idle": "2020-04-01T16:53:11.512580Z",
     "shell.execute_reply": "2020-04-01T16:53:11.513255Z"
    },
    "papermill": {
     "duration": 0.536673,
     "end_time": "2020-04-01T16:53:11.513480",
     "exception": false,
     "start_time": "2020-04-01T16:53:10.976807",
     "status": "completed"
    },
    "tags": []
   },
   "outputs": [],
   "source": [
    "!pip freeze > requirements.txt"
   ]
  }
 ],
 "metadata": {
  "kernelspec": {
   "display_name": "Python 3",
   "language": "python",
   "name": "python3"
  },
  "language_info": {
   "codemirror_mode": {
    "name": "ipython",
    "version": 3
   },
   "file_extension": ".py",
   "mimetype": "text/x-python",
   "name": "python",
   "nbconvert_exporter": "python",
   "pygments_lexer": "ipython3",
   "version": "3.7.6"
  },
  "papermill": {
   "duration": 33.463593,
   "end_time": "2020-04-01T16:53:11.649912",
   "environment_variables": {},
   "exception": null,
   "input_path": "main.ipynb",
   "output_path": "main.ipynb",
   "parameters": {},
   "start_time": "2020-04-01T16:52:38.186319",
   "version": "2.1.0"
  },
  "toc": {
   "base_numbering": 1,
   "nav_menu": {},
   "number_sections": true,
   "sideBar": true,
   "skip_h1_title": false,
   "title_cell": "Table of Contents",
   "title_sidebar": "Contents",
   "toc_cell": false,
   "toc_position": {},
   "toc_section_display": true,
   "toc_window_display": false
  }
 },
 "nbformat": 4,
 "nbformat_minor": 4
}
