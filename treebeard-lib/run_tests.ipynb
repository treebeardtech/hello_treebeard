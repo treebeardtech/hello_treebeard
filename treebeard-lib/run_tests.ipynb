{
 "cells": [
  {
   "cell_type": "code",
   "execution_count": null,
   "metadata": {
    "papermill": {
     "duration": 0.260761,
     "end_time": "2020-07-13T17:39:25.481908",
     "exception": false,
     "start_time": "2020-07-13T17:39:25.221147",
     "status": "completed"
    },
    "tags": []
   },
   "outputs": [],
   "source": [
    "from treebeard.helper import shell"
   ]
  },
  {
   "cell_type": "code",
   "execution_count": null,
   "metadata": {
    "papermill": {
     "duration": 2.62426,
     "end_time": "2020-07-13T17:39:28.109080",
     "exception": false,
     "start_time": "2020-07-13T17:39:25.484820",
     "status": "completed"
    },
    "tags": []
   },
   "outputs": [],
   "source": [
    "shell(\"pipenv install --dev --system --deploy\")"
   ]
  },
  {
   "cell_type": "code",
   "execution_count": null,
   "metadata": {
    "tags": []
   },
   "outputs": [],
   "source": [
    "shell(\"pytest --cov-report=xml --cov=treebeard\")"
   ]
  }
 ],
 "metadata": {
  "kernelspec": {
   "name": "python3",
   "display_name": "Python 3.7.7 64-bit ('treebeard-lib': pipenv)",
   "metadata": {
    "interpreter": {
     "hash": "8c2fe020f495e43fa5c608a7a84b571b8a680ed279291bf93bdec1c2554d7d7a"
    }
   }
  },
  "language_info": {
   "codemirror_mode": {
    "name": "ipython",
    "version": 3
   },
   "file_extension": ".py",
   "mimetype": "text/x-python",
   "name": "python",
   "nbconvert_exporter": "python",
   "pygments_lexer": "ipython3",
   "version": "3.7.7-final"
  },
  "papermill": {
   "duration": 4.189511,
   "end_time": "2020-07-13T17:39:28.436768",
   "environment_variables": {},
   "exception": null,
   "input_path": "run_tests.ipynb",
   "output_path": "run_tests.ipynb",
   "parameters": {},
   "start_time": "2020-07-13T17:39:24.247257",
   "version": "2.1.2"
  }
 },
 "nbformat": 4,
 "nbformat_minor": 2
}