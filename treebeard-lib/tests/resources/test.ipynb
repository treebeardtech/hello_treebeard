{
 "cells": [
  {
   "cell_type": "code",
   "execution_count": null,
   "metadata": {
    "papermill": {
     "duration": 0.004493,
     "end_time": "2020-07-13T17:14:35.123316",
     "exception": false,
     "start_time": "2020-07-13T17:14:35.118823",
     "status": "completed"
    },
    "tags": []
   },
   "outputs": [],
   "source": []
  }
 ],
 "metadata": {
  "language_info": {
   "codemirror_mode": {
    "name": "ipython",
    "version": 3
   },
   "file_extension": ".py",
   "mimetype": "text/x-python",
   "name": "python",
   "nbconvert_exporter": "python",
   "pygments_lexer": "ipython3",
   "version": "3.7.7"
  },
  "papermill": {
   "duration": 2.020766,
   "end_time": "2020-07-13T17:14:36.429765",
   "environment_variables": {},
   "exception": null,
   "input_path": "tests/resources/test.ipynb",
   "output_path": "tests/resources/test.ipynb",
   "parameters": {},
   "start_time": "2020-07-13T17:14:34.408999",
   "version": "2.1.1"
  }
 },
 "nbformat": 4,
 "nbformat_minor": 2
}
