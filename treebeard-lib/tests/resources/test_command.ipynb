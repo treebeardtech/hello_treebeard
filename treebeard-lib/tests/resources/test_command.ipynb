{
 "cells": [
  {
   "cell_type": "code",
   "execution_count": null,
   "metadata": {
    "papermill": {
     "duration": 0.002873,
     "end_time": "2020-07-09T09:51:22.746381",
     "exception": false,
     "start_time": "2020-07-09T09:51:22.743508",
     "status": "completed"
    },
    "tags": []
   },
   "outputs": [],
   "source": []
  }
 ],
 "metadata": {
  "language_info": {
   "codemirror_mode": {
    "name": "ipython",
    "version": 3
   },
   "file_extension": ".py",
   "mimetype": "text/x-python",
   "name": "python",
   "nbconvert_exporter": "python",
   "pygments_lexer": "ipython3",
   "version": "3.7.6"
  },
  "papermill": {
   "duration": 1.418679,
   "end_time": "2020-07-09T09:51:22.858472",
   "environment_variables": {},
   "exception": null,
   "input_path": "tests/treebeard/test.ipynb",
   "output_path": "tests/treebeard/test.ipynb",
   "parameters": {},
   "start_time": "2020-07-09T09:51:21.439793",
   "version": "2.1.1"
  }
 },
 "nbformat": 4,
 "nbformat_minor": 2
}