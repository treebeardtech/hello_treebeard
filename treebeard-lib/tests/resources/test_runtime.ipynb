{
 "cells": [
  {
   "cell_type": "code",
   "execution_count": null,
   "metadata": {
    "papermill": {
     "duration": 0.007804,
     "end_time": "2020-07-09T10:46:27.916640",
     "exception": false,
     "start_time": "2020-07-09T10:46:27.908836",
     "status": "completed"
    },
    "tags": []
   },
   "outputs": [],
   "source": []
  }
 ],
 "metadata": {
  "language_info": {
   "codemirror_mode": {
    "name": "ipython",
    "version": 3
   },
   "file_extension": ".py",
   "mimetype": "text/x-python",
   "name": "python",
   "nbconvert_exporter": "python",
   "pygments_lexer": "ipython3",
   "version": "3.7.7"
  },
  "papermill": {
   "duration": 2.015886,
   "end_time": "2020-07-09T10:46:28.033467",
   "environment_variables": {},
   "exception": null,
   "input_path": "tests/test_runtime.ipynb",
   "output_path": "tests/test_runtime.ipynb",
   "parameters": {},
   "start_time": "2020-07-09T10:46:26.017581",
   "version": "2.1.1"
  }
 },
 "nbformat": 4,
 "nbformat_minor": 2
}