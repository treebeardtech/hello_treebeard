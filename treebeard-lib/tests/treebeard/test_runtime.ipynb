{
 "cells": [
  {
   "cell_type": "code",
   "execution_count": null,
   "metadata": {
    "papermill": {
     "duration": 0.005764,
     "end_time": "2020-07-09T14:13:34.511073",
     "exception": false,
     "start_time": "2020-07-09T14:13:34.505309",
     "status": "completed"
    },
    "tags": []
   },
   "outputs": [],
   "source": []
  }
 ],
 "metadata": {
  "language_info": {
   "codemirror_mode": {
    "name": "ipython",
    "version": 3
   },
   "file_extension": ".py",
   "mimetype": "text/x-python",
   "name": "python",
   "nbconvert_exporter": "python",
   "pygments_lexer": "ipython3",
   "version": "3.7.6"
  },
  "papermill": {
   "duration": 3.450781,
   "end_time": "2020-07-09T14:13:34.627663",
   "environment_variables": {},
   "exception": null,
   "input_path": "treebeard-lib/tests/treebeard/test_runtime.ipynb",
   "output_path": "treebeard-lib/tests/treebeard/test_runtime.ipynb",
   "parameters": {},
   "start_time": "2020-07-09T14:13:31.176882",
   "version": "2.1.1"
  }
 },
 "nbformat": 4,
 "nbformat_minor": 2
}