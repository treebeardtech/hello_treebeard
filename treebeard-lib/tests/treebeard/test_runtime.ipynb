{
 "cells": [
  {
   "cell_type": "code",
   "execution_count": null,
   "metadata": {
    "papermill": {
     "duration": 0.002868,
     "end_time": "2020-07-09T10:00:09.086867",
     "exception": false,
     "start_time": "2020-07-09T10:00:09.083999",
     "status": "completed"
    },
    "tags": []
   },
   "outputs": [],
   "source": []
  }
 ],
 "metadata": {
  "language_info": {
   "codemirror_mode": {
    "name": "ipython",
    "version": 3
   },
   "file_extension": ".py",
   "mimetype": "text/x-python",
   "name": "python",
   "nbconvert_exporter": "python",
   "pygments_lexer": "ipython3",
   "version": "3.7.6"
  },
  "papermill": {
   "duration": 2.443493,
   "end_time": "2020-07-09T10:00:10.199165",
   "environment_variables": {},
   "exception": null,
   "input_path": "tests/treebeard/test_runtime.ipynb",
   "output_path": "tests/treebeard/test_runtime.ipynb",
   "parameters": {},
   "start_time": "2020-07-09T10:00:07.755672",
   "version": "2.1.1"
  }
 },
 "nbformat": 4,
 "nbformat_minor": 2
}