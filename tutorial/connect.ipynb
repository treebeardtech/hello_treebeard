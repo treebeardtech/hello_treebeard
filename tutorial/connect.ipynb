{
  "cells": [
    {
      "cell_type": "code",
      "source": [
        "%load_ext autoreload\n",
        "%autoreload 2\n",
        "import treebeard"
      ],
      "outputs": [],
      "execution_count": 1,
      "metadata": {
        "tags": [],
        "execution": {
          "iopub.status.busy": "2020-08-06T08:28:33.675Z",
          "iopub.execute_input": "2020-08-06T08:28:33.679Z",
          "shell.execute_reply": "2020-08-06T08:28:33.839Z",
          "iopub.status.idle": "2020-08-06T08:28:33.703Z"
        }
      }
    },
    {
      "cell_type": "markdown",
      "source": [
        "## Treebeard Connect\n",
        "\n",
        "Treebeard Connect helps you communicate with your notebook's readers.\n",
        "\n",
        "✅ It pulls in build badges per-notebook to show they have been tested\n",
        "\n",
        "🌟 It embeds a GitHub link and star button to stay in touch\n",
        "\n",
        "💬 It includes contextual issue creation links to support comments on each individual cell."
      ],
      "metadata": {}
    },
    {
      "cell_type": "code",
      "source": [
        "treebeard.connect(repo=\"treebeardtech/treebeard\", file=\"tutorial/connect.ipynb\", workflow=\"Action Integration Test\")"
      ],
      "outputs": [
        {
          "output_type": "display_data",
          "data": {
            "text/plain": "<IPython.core.display.HTML object>",
            "text/html": "<div style=\"overflow:hidden\"><iframe frameBorder=\"0\" allowtransparency=\"true\" style=\"width:99%;height:60px;background:none transparent;margin-bottom:-30px\" src=\"https://localhost:8000/badge\"></iframe></div>"
          },
          "metadata": {}
        }
      ],
      "execution_count": 2,
      "metadata": {
        "tags": [],
        "execution": {
          "iopub.status.busy": "2020-08-06T08:28:33.711Z",
          "iopub.execute_input": "2020-08-06T08:28:33.716Z",
          "iopub.status.idle": "2020-08-06T08:28:33.732Z",
          "shell.execute_reply": "2020-08-06T08:28:33.841Z"
        }
      }
    },
    {
      "cell_type": "markdown",
      "source": [
        "Once activated, connect will attach buttons to all code cells. Clicking on them will create a GitHub issue referencing the block of code."
      ],
      "metadata": {}
    },
    {
      "cell_type": "code",
      "source": [
        "def fact(n: int) -> int:\n",
        "    if n == 1:\n",
        "        return 1\n",
        "    return n * fact(n - 1)"
      ],
      "outputs": [
        {
          "output_type": "display_data",
          "data": {
            "text/plain": "<IPython.core.display.HTML object>",
            "text/html": "<div style='width:100%;flex-direction:row-reverse;color:gray;display:flex;font-size:10px'>\n                       <a style='opacity:0.5;margin-left:auto' target='_blank' href='https://github.com/treebeardtech/treebeard/issues/new?title=Notebook+cell+comment&body=%60%60%60%0Adef+fact%28n%3A+int%29+-%3E+int%3A%0A++++if+n+%3D%3D+1%3A%0A++++++++return+1%0A++++return+n+%2A+fact%28n+-+1%29%0A%60%60%60'>💬 <span>cmd-click to comment</span></a>\n                    </div>"
          },
          "metadata": {}
        }
      ],
      "execution_count": 3,
      "metadata": {
        "tags": [],
        "execution": {
          "iopub.status.busy": "2020-08-06T08:28:33.740Z",
          "iopub.execute_input": "2020-08-06T08:28:33.747Z",
          "iopub.status.idle": "2020-08-06T08:28:33.762Z",
          "shell.execute_reply": "2020-08-06T08:28:33.843Z"
        }
      }
    },
    {
      "cell_type": "code",
      "source": [
        "fact(4)"
      ],
      "outputs": [
        {
          "output_type": "display_data",
          "data": {
            "text/plain": "<IPython.core.display.HTML object>",
            "text/html": "<div style='width:100%;flex-direction:row-reverse;color:gray;display:flex;font-size:10px'>\n                       <a style='opacity:0.5;margin-left:auto' target='_blank' href='https://github.com/treebeardtech/treebeard/issues/new?title=Notebook+cell+comment&body=%60%60%60%0Afact%284%29%0A%60%60%60'>💬 <span>cmd-click to comment</span></a>\n                    </div>"
          },
          "metadata": {}
        },
        {
          "output_type": "execute_result",
          "data": {
            "text/plain": "24"
          },
          "metadata": {},
          "execution_count": 4
        }
      ],
      "execution_count": 4,
      "metadata": {
        "tags": [],
        "execution": {
          "iopub.status.busy": "2020-08-06T08:28:33.771Z",
          "iopub.execute_input": "2020-08-06T08:28:33.777Z",
          "iopub.status.idle": "2020-08-06T08:28:33.792Z",
          "shell.execute_reply": "2020-08-06T08:28:33.846Z"
        }
      }
    },
    {
      "cell_type": "code",
      "source": [
        "fact(1000)"
      ],
      "outputs": [
        {
          "output_type": "display_data",
          "data": {
            "text/plain": "<IPython.core.display.HTML object>",
            "text/html": "<div style='width:100%;flex-direction:row-reverse;color:gray;display:flex;font-size:10px'>\n                       <a style='opacity:0.5;margin-left:auto' target='_blank' href='https://github.com/treebeardtech/treebeard/issues/new?title=Notebook+cell+comment&body=%60%60%60%0Afact%281000%29%0A%60%60%60'>💬 <span>cmd-click to comment</span></a>\n                    </div>"
          },
          "metadata": {}
        },
        {
          "output_type": "execute_result",
          "data": {
            "text/plain": "402387260077093773543702433923003985719374864210714632543799910429938512398629020592044208486969404800479988610197196058631666872994808558901323829669944590997424504087073759918823627727188732519779505950995276120874975462497043601418278094646496291056393887437886487337119181045825783647849977012476632889835955735432513185323958463075557409114262417474349347553428646576611667797396668820291207379143853719588249808126867838374559731746136085379534524221586593201928090878297308431392844403281231558611036976801357304216168747609675871348312025478589320767169132448426236131412508780208000261683151027341827977704784635868170164365024153691398281264810213092761244896359928705114964975419909342221566832572080821333186116811553615836546984046708975602900950537616475847728421889679646244945160765353408198901385442487984959953319101723355556602139450399736280750137837615307127761926849034352625200015888535147331611702103968175921510907788019393178114194545257223865541461062892187960223838971476088506276862967146674697562911234082439208160153780889893964518263243671616762179168909779911903754031274622289988005195444414282012187361745992642956581746628302955570299024324153181617210465832036786906117260158783520751516284225540265170483304226143974286933061690897968482590125458327168226458066526769958652682272807075781391858178889652208164348344825993266043367660176999612831860788386150279465955131156552036093988180612138558600301435694527224206344631797460594682573103790084024432438465657245014402821885252470935190620929023136493273497565513958720559654228749774011413346962715422845862377387538230483865688976461927383814900140767310446640259899490222221765904339901886018566526485061799702356193897017860040811889729918311021171229845901641921068884387121855646124960798722908519296819372388642614839657382291123125024186649353143970137428531926649875337218940694281434118520158014123344828015051399694290153483077644569099073152433278288269864602789864321139083506217095002597389863554277196742822248757586765752344220207573630569498825087968928162753848863396909959826280956121450994871701244516461260379029309120889086942028510640182154399457156805941872748998094254742173582401063677404595741785160829230135358081840096996372524230560855903700624271243416909004153690105933983835777939410970027753472000000000000000000000000000000000000000000000000000000000000000000000000000000000000000000000000000000000000000000000000000000000000000000000000000000000000000000000000000000000000000000000000000000000000000000000000000000000000000000000000000000000"
          },
          "metadata": {},
          "execution_count": 5
        }
      ],
      "execution_count": 5,
      "metadata": {
        "tags": [],
        "execution": {
          "iopub.status.busy": "2020-08-06T08:28:33.800Z",
          "iopub.execute_input": "2020-08-06T08:28:33.805Z",
          "iopub.status.idle": "2020-08-06T08:28:33.817Z",
          "shell.execute_reply": "2020-08-06T08:28:33.848Z"
        }
      }
    },
    {
      "cell_type": "markdown",
      "source": [
        "### Note that:\n",
        "1. Treebeard connect works through any medium you are viewing the notebook, jupyter lab, vscode, nbconvert, etc.\n",
        "2. Markdown cells cannot be commented upon.\n",
        "3. A comment is attached to the input code. If the output is relevant you will have to attach the text/screenshot."
      ],
      "metadata": {}
    },
    {
      "cell_type": "markdown",
      "source": [
        "## Evolution of this feature\n",
        "\n",
        "Currently a lot of this functionality pulls the reader from the notebook and onto GitHub. It is possible to make this a more immersive/inline experience with a little work."
      ],
      "metadata": {}
    },
    {
      "cell_type": "code",
      "source": [
        "treebeard.discuss('Evolution of this feature') # no-op function to create a comment link"
      ],
      "outputs": [
        {
          "output_type": "display_data",
          "data": {
            "text/plain": "<IPython.core.display.HTML object>",
            "text/html": "<div style='width:100%;flex-direction:row-reverse;color:gray;display:flex;font-size:10px'>\n                       <a style='opacity:0.5;margin-left:auto' target='_blank' href='https://github.com/treebeardtech/treebeard/issues/new?title=Notebook+cell+comment&body=%60%60%60%0Atreebeard.discuss%28%27Evolution+of+this+feature%27%29+%23+no-op+function+to+create+a+comment+link%0A%60%60%60'>💬 <span>cmd-click to comment</span></a>\n                    </div>"
          },
          "metadata": {}
        }
      ],
      "execution_count": 6,
      "metadata": {
        "tags": [],
        "execution": {
          "iopub.status.busy": "2020-08-06T08:28:33.822Z",
          "iopub.execute_input": "2020-08-06T08:28:33.826Z",
          "iopub.status.idle": "2020-08-06T08:28:33.835Z",
          "shell.execute_reply": "2020-08-06T08:28:33.850Z"
        }
      }
    }
  ],
  "metadata": {
    "kernelspec": {
      "display_name": "treebeard-lib",
      "language": "python",
      "name": "treebeard-lib"
    },
    "language_info": {
      "name": "python",
      "version": "3.7.7",
      "mimetype": "text/x-python",
      "codemirror_mode": {
        "name": "ipython",
        "version": 3
      },
      "pygments_lexer": "ipython3",
      "nbconvert_exporter": "python",
      "file_extension": ".py"
    },
    "toc": {
      "toc_position": {},
      "skip_h1_title": false,
      "number_sections": true,
      "title_cell": "Table of Contents",
      "toc_window_display": false,
      "base_numbering": 1,
      "toc_section_display": true,
      "title_sidebar": "Contents",
      "toc_cell": false,
      "nav_menu": {},
      "sideBar": true
    },
    "nteract": {
      "version": "0.24.1"
    }
  },
  "nbformat": 4,
  "nbformat_minor": 4
}