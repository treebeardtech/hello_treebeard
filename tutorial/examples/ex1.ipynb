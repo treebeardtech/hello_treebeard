{
 "cells": [
  {
   "cell_type": "code",
   "execution_count": 1,
   "metadata": {
    "execution": {
     "iopub.execute_input": "2020-07-14T11:21:56.040346Z",
     "iopub.status.busy": "2020-07-14T11:21:56.039798Z",
     "iopub.status.idle": "2020-07-14T11:21:56.042103Z",
     "shell.execute_reply": "2020-07-14T11:21:56.042703Z"
    },
    "papermill": {
     "duration": 0.010018,
     "end_time": "2020-07-14T11:21:56.042860",
     "exception": false,
     "start_time": "2020-07-14T11:21:56.032842",
     "status": "completed"
    },
    "tags": []
   },
   "outputs": [
    {
     "name": "stdout",
     "output_type": "stream",
     "text": [
      "this is example 1\n"
     ]
    }
   ],
   "source": [
    "print('this is example 1')"
   ]
  }
 ],
 "metadata": {
  "kernelspec": {
   "display_name": "Python 3",
   "language": "python",
   "name": "python3"
  },
  "language_info": {
   "codemirror_mode": {
    "name": "ipython",
    "version": 3
   },
   "file_extension": ".py",
   "mimetype": "text/x-python",
   "name": "python",
   "nbconvert_exporter": "python",
   "pygments_lexer": "ipython3",
   "version": "3.7.6"
  },
  "papermill": {
   "duration": 1.270924,
   "end_time": "2020-07-14T11:21:56.154379",
   "environment_variables": {},
   "exception": null,
   "input_path": "examples/ex1.ipynb",
   "output_path": "examples/ex1.ipynb",
   "parameters": {},
   "start_time": "2020-07-14T11:21:54.883455",
   "version": "2.1.1"
  }
 },
 "nbformat": 4,
 "nbformat_minor": 4
}