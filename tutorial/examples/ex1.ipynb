{
 "cells": [
  {
   "cell_type": "code",
   "execution_count": 1,
   "metadata": {
    "execution": {
     "iopub.execute_input": "2020-07-14T14:17:37.005824Z",
     "iopub.status.busy": "2020-07-14T14:17:37.004808Z",
     "iopub.status.idle": "2020-07-14T14:17:37.008024Z",
     "shell.execute_reply": "2020-07-14T14:17:37.009017Z"
    },
    "papermill": {
     "duration": 0.014159,
     "end_time": "2020-07-14T14:17:37.009297",
     "exception": false,
     "start_time": "2020-07-14T14:17:36.995138",
     "status": "completed"
    },
    "tags": []
   },
   "outputs": [
    {
     "name": "stdout",
     "output_type": "stream",
     "text": [
      "this is example 1\n"
     ]
    }
   ],
   "source": [
    "print('this is example 1')"
   ]
  }
 ],
 "metadata": {
  "kernelspec": {
   "display_name": "Python 3",
   "language": "python",
   "name": "python3"
  },
  "language_info": {
   "codemirror_mode": {
    "name": "ipython",
    "version": 3
   },
   "file_extension": ".py",
   "mimetype": "text/x-python",
   "name": "python",
   "nbconvert_exporter": "python",
   "pygments_lexer": "ipython3",
   "version": "3.7.6"
  },
  "papermill": {
   "duration": 0.855681,
   "end_time": "2020-07-14T14:17:37.124804",
   "environment_variables": {},
   "exception": null,
   "input_path": "examples/ex1.ipynb",
   "output_path": "examples/ex1.ipynb",
   "parameters": {},
   "start_time": "2020-07-14T14:17:36.269123",
   "version": "2.1.1"
  }
 },
 "nbformat": 4,
 "nbformat_minor": 4
}