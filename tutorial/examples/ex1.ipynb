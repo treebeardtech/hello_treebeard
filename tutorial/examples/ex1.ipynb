{
 "cells": [
  {
   "cell_type": "code",
   "execution_count": 1,
   "metadata": {
    "execution": {
     "iopub.execute_input": "2020-07-14T12:56:26.974578Z",
     "iopub.status.busy": "2020-07-14T12:56:26.973860Z",
     "iopub.status.idle": "2020-07-14T12:56:26.976341Z",
     "shell.execute_reply": "2020-07-14T12:56:26.977140Z"
    },
    "papermill": {
     "duration": 0.010788,
     "end_time": "2020-07-14T12:56:26.977281",
     "exception": false,
     "start_time": "2020-07-14T12:56:26.966493",
     "status": "completed"
    },
    "tags": []
   },
   "outputs": [
    {
     "name": "stdout",
     "output_type": "stream",
     "text": [
      "this is example 1\n"
     ]
    }
   ],
   "source": [
    "print('this is example 1')"
   ]
  }
 ],
 "metadata": {
  "kernelspec": {
   "display_name": "Python 3",
   "language": "python",
   "name": "python3"
  },
  "language_info": {
   "codemirror_mode": {
    "name": "ipython",
    "version": 3
   },
   "file_extension": ".py",
   "mimetype": "text/x-python",
   "name": "python",
   "nbconvert_exporter": "python",
   "pygments_lexer": "ipython3",
   "version": "3.7.6"
  },
  "papermill": {
   "duration": 0.846565,
   "end_time": "2020-07-14T12:56:27.090890",
   "environment_variables": {},
   "exception": null,
   "input_path": "examples/ex1.ipynb",
   "output_path": "examples/ex1.ipynb",
   "parameters": {},
   "start_time": "2020-07-14T12:56:26.244325",
   "version": "2.1.1"
  }
 },
 "nbformat": 4,
 "nbformat_minor": 4
}