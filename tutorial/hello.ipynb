{
 "cells": [
  {
   "cell_type": "markdown",
   "metadata": {},
   "source": [
    "## 🌲 Treebeard Python Library Tutorial\n",
    "\n",
    "Treebeard helps with notebook automation from three distinct interfaces.\n",
    "1. GitHub Actions\n",
    "2. Our python package's CLI\n",
    "3. Our Python API\n",
    "\n",
    "This tutorial covers basic usage of 2 and 3 and is best viewed via [![Binder](https://mybinder.org/badge_logo.svg)](https://mybinder.org/v2/gh/treebeardtech/treebeard/master?urlpath=lab/tree/tutorial/hello.ipynb)"
   ]
  },
  {
   "cell_type": "code",
   "execution_count": 1,
   "metadata": {},
   "outputs": [],
   "source": [
    "from treebeard import run_treebeard"
   ]
  },
  {
   "cell_type": "code",
   "execution_count": 2,
   "metadata": {
    "tags": []
   },
   "outputs": [
    {
     "output_type": "stream",
     "name": "stdout",
     "text": "Warning: treebeard.yaml file not found! `treebeard setup` fetches an example.\nUsing defaults: notebooks: - '**/*.ipynb' output_dirs: - 'outputs'\n🌲  Running locally without docker using your current python environment\nRUNNING\n11:15:00: 🌲 treebeard runtime: running repo\nWill run the following:\nexamples/ex1.ipynb\n\n11:15:00: ⏳ Running 1/1: examples/ex1.ipynb\n11:15:00: Executing Notebook ex1.ipynb in examples\n11:15:01: ✅ Notebook examples/ex1.ipynb passed!\n\n11:15:01: 🌲 Run Finished. Results:\n\n🟩🟩🟩🟩🟩🟩🟩🟩🟩✅ examples/ex1.ipynb\n  ran 1 of 1 cells\n\n\n"
    },
    {
     "output_type": "error",
     "ename": "SystemExit",
     "evalue": "0",
     "traceback": [
      "An exception has occurred, use %tb to see the full traceback.\n",
      "\u001b[0;31mSystemExit\u001b[0m\u001b[0;31m:\u001b[0m 0\n"
     ]
    }
   ],
   "source": [
    "run_treebeard(['examples/ex1.ipynb'])"
   ]
  },
  {
   "cell_type": "markdown",
   "metadata": {},
   "source": [
    "## Running CLI Tools from Notebooks\n",
    "\n",
    "We recommend using your favourite tool's Python SDKs as much as possible because Python code is less ambiguous to human's and machines than shell script.\n",
    "\n",
    "That said many tools do not have a usable Python API.\n",
    "\n",
    "Calling Bash scripts directly from notebooks either using `%%` or `!` magic commands has a couple pitfalls:\n",
    "* `%%` will only show you outputs at the end of the command, leaving you unsure of the command status.\n",
    "* `!` does not cause the cell to fail if the command fails.\n",
    "\n",
    "For this reason treebeard provides a shell function for calling bash scripts that will stream output to stdout AND return the status code faithfully."
   ]
  },
  {
   "cell_type": "code",
   "execution_count": 8,
   "metadata": {
    "tags": []
   },
   "outputs": [],
   "source": [
    "from treebeard.helper import shell\n",
    "\n",
    "path = \"examples/script.py\"\n",
    "\n",
    "shell(f\"\"\"\n",
    "isort  -m 3 -tc --check-only {glob}\n",
    "\"\"\")"
   ]
  }
 ],
 "metadata": {
  "kernelspec": {
   "display_name": "Python 3",
   "language": "python",
   "name": "python3"
  },
  "language_info": {
   "codemirror_mode": {
    "name": "ipython",
    "version": 3
   },
   "file_extension": ".py",
   "mimetype": "text/x-python",
   "name": "python",
   "nbconvert_exporter": "python",
   "pygments_lexer": "ipython3",
   "version": "3.7.6"
  }
 },
 "nbformat": 4,
 "nbformat_minor": 4
}