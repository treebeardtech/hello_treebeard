{
 "cells": [
  {
   "cell_type": "markdown",
   "metadata": {},
   "source": [
    "## 🌲 Treebeard Python Library Tutorial\n",
    "\n",
    "This tutorial is best viewed via [![Binder](https://mybinder.org/badge_logo.svg)](https://mybinder.org/v2/gh/treebeardtech/treebeard/master?urlpath=lab/tree/tutorial/hello.ipynb)"
   ]
  },
  {
   "cell_type": "markdown",
   "metadata": {},
   "source": [
    "Treebeard should generally be accessed via the GitHub action interface. I.e. you should use it through some `.github/workflows/test.yml`\n",
    "\n",
    "When you place a workflow in your repo, the following will happen:\n",
    "\n",
    "1. GitHub will load treebeard's GitHub action from `treebeardtech/treebeard`, which is a node.js app located in `$project_root/src`\n",
    "\n",
    "2. The action will install the treebeard Python package directly from GitHub source, located at `$project_root/treebeard-lib`\n",
    "\n",
    "3. The action will call `treebeard run` with a bunch of arguments suitable for the Github Actions runtime. Most params you pass into the action's `with` clause will make it through to the library via command line arguments or env vars."
   ]
  },
  {
   "cell_type": "markdown",
   "metadata": {},
   "source": [
    "## Aside on Running CLI Tools from Notebooks\n",
    "\n",
    "We recommend using your favourite tool's Python SDKs as much as possible because Python code is less ambiguous to human's and machines than shell script.\n",
    "\n",
    "That said many tools do not have a usable Python API.\n",
    "\n",
    "Calling Bash scripts directly from notebooks either using `%%` or `!` magic commands has a couple pitfalls:\n",
    "* `%%` will only show you outputs at the end of the command, leaving you unsure of the command status.\n",
    "* `!` does not cause the cell to fail if the command fails.\n",
    "\n",
    "For this reason treebeard provides a shell function for calling bash scripts that will stream output to stdout AND return the status code faithfully."
   ]
  },
  {
   "cell_type": "code",
   "execution_count": 6,
   "metadata": {
    "tags": []
   },
   "outputs": [
    {
     "output_type": "stream",
     "name": "stdout",
     "text": "Fixing /Users/alexremedios/git/treebeard/treebeard/tutorial/examples/script.py\n"
    }
   ],
   "source": [
    "from treebeard.helper import shell\n",
    "\n",
    "path = \"examples/script.py\"\n",
    "\n",
    "shell(f\"\"\"\n",
    "isort  -m 3 -tc {path}\n",
    "\"\"\")"
   ]
  },
  {
   "cell_type": "code",
   "execution_count": null,
   "metadata": {},
   "outputs": [],
   "source": [
    "shell(\"\"\"\n",
    "treebeard run --notebooks examples/ex1.ipynb\n",
    "\"\"\")"
   ]
  },
  {
   "cell_type": "code",
   "execution_count": 1,
   "metadata": {},
   "outputs": [],
   "source": [
    "from treebeard import run_treebeard"
   ]
  },
  {
   "cell_type": "code",
   "execution_count": 2,
   "metadata": {
    "tags": []
   },
   "outputs": [
    {
     "output_type": "stream",
     "name": "stdout",
     "text": "Warning: treebeard.yaml file not found! `treebeard setup` fetches an example.\nUsing defaults: notebooks: - '**/*.ipynb' output_dirs: - 'outputs'\n🌲  Running locally without docker using your current python environment\nRUNNING\n10:48:15: 🌲 treebeard runtime: running repo\nWill run the following:\nexamples/ex1.ipynb\n\n10:48:15: ⏳ Running 1/1: examples/ex1.ipynb\n10:48:15: Executing Notebook ex1.ipynb in examples\n10:48:16: ✅ Notebook examples/ex1.ipynb passed!\n\n10:48:16: 🌲 Run Finished. Results:\n\n🟩🟩🟩🟩🟩🟩🟩🟩🟩✅ examples/ex1.ipynb\n  ran 1 of 1 cells\n\n\n"
    },
    {
     "output_type": "execute_result",
     "data": {
      "text/plain": "0"
     },
     "metadata": {},
     "execution_count": 2
    }
   ],
   "source": [
    "run_treebeard(['examples/ex1.ipynb'])"
   ]
  },
  {
   "cell_type": "markdown",
   "metadata": {},
   "source": []
  },
  {
   "cell_type": "code",
   "execution_count": null,
   "metadata": {
    "tags": []
   },
   "outputs": [],
   "source": []
  }
 ],
 "metadata": {
  "kernelspec": {
   "display_name": "Python 3",
   "language": "python",
   "name": "python3"
  },
  "language_info": {
   "codemirror_mode": {
    "name": "ipython",
    "version": 3
   },
   "file_extension": ".py",
   "mimetype": "text/x-python",
   "name": "python",
   "nbconvert_exporter": "python",
   "pygments_lexer": "ipython3",
   "version": "3.7.6"
  }
 },
 "nbformat": 4,
 "nbformat_minor": 4
}