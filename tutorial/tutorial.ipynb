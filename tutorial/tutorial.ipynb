{
 "cells": [
  {
   "cell_type": "markdown",
   "metadata": {},
   "source": [
    "## 🌲 Treebeard Python Library Tutorial\n",
    "\n",
    "This tutorial shows how treebeard works internally. It is best viewed via [![Binder](https://mybinder.org/badge_logo.svg)](https://mybinder.org/v2/gh/treebeardtech/treebeard/master?urlpath=lab/tree/tutorial/hello.ipynb)"
   ]
  },
  {
   "cell_type": "markdown",
   "metadata": {},
   "source": [
    "Treebeard should generally be accessed via the GitHub action interface. I.e. you should use it through some `.github/workflows/test.yml`\n",
    "\n",
    "When you place a workflow in your repo, the following will happen:\n",
    "\n",
    "1. GitHub will load treebeard's GitHub action from `treebeardtech/treebeard`, which is a node.js app located in `$project_root/src`\n",
    "\n",
    "2. The action will install the treebeard Python package directly from GitHub source, located at `$project_root/treebeard-lib`\n",
    "\n",
    "3. The action will call `treebeard run` with a bunch of arguments suitable for the Github Actions runtime. Most params you pass into the action's `with` clause will make it through to the library via command line arguments or env vars.\n",
    "\n"
   ]
  },
  {
   "cell_type": "code",
   "execution_count": null,
   "metadata": {},
   "outputs": [],
   "source": [
    "%load_ext autoreload\n",
    "%autoreload 2\n",
    "import treebeard\n",
    "from treebeard.helper import shell\n",
    "from treebeard import run_treebeard\n"
   ]
  },
  {
   "cell_type": "markdown",
   "metadata": {},
   "source": [
    "## Aside on Running CLI Tools from Notebooks\n",
    "\n",
    "We recommend using your favourite tool's Python SDKs as much as possible because Python code is less ambiguous to human's and machines than shell script.\n",
    "\n",
    "That said many tools do not have a usable Python API.\n",
    "\n",
    "Calling Bash scripts directly from notebooks either using `%%` or `!` magic commands has a couple pitfalls:\n",
    "* `%%` will only show you outputs at the end of the command, leaving you unsure of the command status.\n",
    "* `!` does not cause the cell to fail if the command fails.\n",
    "\n",
    "For this reason treebeard provides a shell function for calling bash scripts that will stream output to stdout AND return the status code faithfully.\n",
    "\n",
    "It can come in handy for experimenting with using notebooks as build scripts, etc."
   ]
  },
  {
   "cell_type": "markdown",
   "metadata": {},
   "source": [
    "The GitHub actions calls treebeard via a CLI invocation similar to this:"
   ]
  },
  {
   "cell_type": "code",
   "execution_count": null,
   "metadata": {
    "tags": []
   },
   "outputs": [],
   "source": [
    "shell(\"\"\"\n",
    "treebeard run --notebooks examples/ex1.ipynb --confirm\n",
    "\"\"\")"
   ]
  },
  {
   "cell_type": "markdown",
   "metadata": {},
   "source": [
    "In turn, the cli uses the internal Python API to run treebeard. It passes in more arguments to configure the runtime, e.g. with Docker details, or kernel name."
   ]
  },
  {
   "cell_type": "code",
   "execution_count": null,
   "metadata": {
    "tags": []
   },
   "outputs": [],
   "source": [
    "run_treebeard(['examples/ex1.ipynb'])"
   ]
  },
  {
   "cell_type": "markdown",
   "metadata": {},
   "source": [
    "## Exercise\n",
    "\n",
    "Change the emoji used to indicate a successful notebook run.\n",
    "\n",
    "Hint: make a tweak to `treebeard-lib/treebeard/runtime/run.py` then re-run some of the cells above."
   ]
  }
 ],
 "metadata": {
  "kernelspec": {
   "display_name": "Python 3",
   "language": "python",
   "name": "python3"
  },
  "language_info": {
   "codemirror_mode": {
    "name": "ipython",
    "version": 3
   },
   "file_extension": ".py",
   "mimetype": "text/x-python",
   "name": "python",
   "nbconvert_exporter": "python",
   "pygments_lexer": "ipython3",
   "version": "3.7.6"
  }
 },
 "nbformat": 4,
 "nbformat_minor": 4
}
